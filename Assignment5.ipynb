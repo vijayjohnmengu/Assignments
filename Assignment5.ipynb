{
 "cells": [
  {
   "cell_type": "markdown",
   "id": "b7b86811-5f0a-45d7-8ff2-1a31db04c084",
   "metadata": {},
   "source": [
    "1. What does an empty dictionary's code look like?"
   ]
  },
  {
   "cell_type": "code",
   "execution_count": null,
   "id": "c11c1f45-63e5-4e5a-bbf5-f2905451977c",
   "metadata": {},
   "outputs": [],
   "source": [
    "{}"
   ]
  },
  {
   "cell_type": "markdown",
   "id": "4cdac9b2-07fb-4bb1-877c-bc99d7f32daf",
   "metadata": {},
   "source": [
    "2. What is the value of a dictionary value with the key 'foo' & and the value 42?"
   ]
  },
  {
   "cell_type": "code",
   "execution_count": null,
   "id": "23510c0e-01ab-4dd5-b446-f523c661cd1f",
   "metadata": {},
   "outputs": [],
   "source": [
    "k={'foo':42} here the key is 'foo' and the value is 42"
   ]
  },
  {
   "cell_type": "markdown",
   "id": "085437fb-04f7-4d0b-aa5e-984762460c48",
   "metadata": {},
   "source": [
    "3. What is the most significant distinction between a dictionary and a list?"
   ]
  },
  {
   "cell_type": "code",
   "execution_count": null,
   "id": "836d398e-bed4-4c52-b07b-e64f7ae19086",
   "metadata": {},
   "outputs": [],
   "source": [
    "List can be called using index, however dictionary can not be called using index but they can be called using the Key"
   ]
  },
  {
   "cell_type": "markdown",
   "id": "f8335265-341f-44ed-b054-acc02d459d3b",
   "metadata": {},
   "source": [
    "4. What happens if you try to access spam['foo'] if spam is {'bar': 100}?"
   ]
  },
  {
   "cell_type": "code",
   "execution_count": null,
   "id": "a24ded7c-1161-41d3-bb3e-2a2f1dc41534",
   "metadata": {},
   "outputs": [],
   "source": [
    "we would get KeyError"
   ]
  },
  {
   "cell_type": "markdown",
   "id": "69fd8d91-7a97-432b-bfd4-e48d6b704bb2",
   "metadata": {},
   "source": [
    "5. If a dictionary is stored in spam, what is the difference between the expressions 'cat' in spam and\n",
    "'cat' in spam.keys()?"
   ]
  },
  {
   "cell_type": "code",
   "execution_count": null,
   "id": "aa31ca49-06e5-47c1-a7af-e85529c2cc82",
   "metadata": {},
   "outputs": [],
   "source": [
    "Both are same expressions as 'cat' in spam and 'cat' in spam.keys() will both search for 'cat' in the key"
   ]
  },
  {
   "cell_type": "markdown",
   "id": "baf7ae21-6c6e-4cdc-b1d2-27fed1f23286",
   "metadata": {},
   "source": [
    "6. If a dictionary is stored in spam, what is the difference between the expressions 'cat' in spam and\n",
    "'cat' in spam.values()?"
   ]
  },
  {
   "cell_type": "code",
   "execution_count": null,
   "id": "f07095b5-0057-4dc2-8154-314c6a98d56c",
   "metadata": {},
   "outputs": [],
   "source": [
    "'cat' in spam will check if 'cat' is in the key place and 'cat' in spam.values() will check for 'cat' in values place."
   ]
  },
  {
   "cell_type": "code",
   "execution_count": null,
   "id": "fa6a5505-8c5a-4359-bc80-90abb5e817f8",
   "metadata": {},
   "outputs": [],
   "source": [
    "7. What is a shortcut for the following code?\n",
    "if 'color' not in spam:\n",
    "spam['color'] ='black';"
   ]
  },
  {
   "cell_type": "code",
   "execution_count": null,
   "id": "aea1f87e-e830-4616-91cc-4904c47984ce",
   "metadata": {},
   "outputs": [],
   "source": [
    "spam.setdefault('color','black')"
   ]
  },
  {
   "cell_type": "markdown",
   "id": "e3e743c5-a722-4d5d-83d0-137d23995a6c",
   "metadata": {},
   "source": [
    "8. How do you \"pretty print\" dictionary values using which module and function?"
   ]
  },
  {
   "cell_type": "code",
   "execution_count": 5,
   "id": "fbc2b409-f1f8-4463-970d-626223558f2c",
   "metadata": {},
   "outputs": [
    {
     "name": "stdout",
     "output_type": "stream",
     "text": [
      "{4: 'hello', 'jj': 'you'}\n"
     ]
    }
   ],
   "source": [
    "import pprint\n",
    "d={4:{'hello':'try',6:'six'},'jj':{'you':'@',9:'king'}}\n",
    "pprint.pprint(d)"
   ]
  },
  {
   "cell_type": "code",
   "execution_count": null,
   "id": "863e4995-0eda-4918-8ff2-85e211ef6ee9",
   "metadata": {},
   "outputs": [],
   "source": []
  }
 ],
 "metadata": {
  "kernelspec": {
   "display_name": "Python 3 (ipykernel)",
   "language": "python",
   "name": "python3"
  },
  "language_info": {
   "codemirror_mode": {
    "name": "ipython",
    "version": 3
   },
   "file_extension": ".py",
   "mimetype": "text/x-python",
   "name": "python",
   "nbconvert_exporter": "python",
   "pygments_lexer": "ipython3",
   "version": "3.10.6"
  }
 },
 "nbformat": 4,
 "nbformat_minor": 5
}
