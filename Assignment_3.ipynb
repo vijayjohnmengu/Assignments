{
 "cells": [
  {
   "cell_type": "code",
   "execution_count": null,
   "id": "0102d140-2e8e-436e-b08c-df8e466c9efa",
   "metadata": {},
   "outputs": [],
   "source": [
    "1. Why are functions advantageous to have in your programs?\n",
    "\n",
    "The re-usability of functions is the main advantage in the programs.\n",
    "Ex: if we just have the inputs chnaging and the logic is same, its best to have functions were we can just pass the arguments \n",
    "to get the solutions."
   ]
  },
  {
   "cell_type": "code",
   "execution_count": null,
   "id": "03b20d43-e4b5-4286-bf04-3c2511756314",
   "metadata": {},
   "outputs": [],
   "source": [
    "2. When does the code in a function run: when it's specified or when it's called?\n",
    "\n",
    "The code in a funtion runs when its called. Example shared in the below row\n"
   ]
  },
  {
   "cell_type": "code",
   "execution_count": 2,
   "id": "b41d1eb4-f617-45a7-bfee-b54dc5c46e92",
   "metadata": {},
   "outputs": [
    {
     "data": {
      "text/plain": [
       "9"
      ]
     },
     "execution_count": 2,
     "metadata": {},
     "output_type": "execute_result"
    }
   ],
   "source": [
    "def add1(a,b):   #here we are defining a function\n",
    "    return a+b\n",
    "add1(5,4)        #here we are calling the function by passing 2 arguments"
   ]
  },
  {
   "cell_type": "code",
   "execution_count": null,
   "id": "1efc991f-8475-4e82-b6ba-560586f03544",
   "metadata": {},
   "outputs": [],
   "source": [
    "3. What statement creates a function?\n",
    "\n",
    "The below statement creates a function\n",
    "\n",
    "def functionName(arguments): "
   ]
  },
  {
   "cell_type": "code",
   "execution_count": null,
   "id": "dcbf24d6-7d26-4ce8-ba60-1949fe66545c",
   "metadata": {},
   "outputs": [],
   "source": [
    "4. What is the difference between a function and a function call?\n",
    "\n",
    "A function is needed to be defined and has the logic in it. \n",
    "ex:\n",
    "def add1(a,b):   #here we are defining a function\n",
    "    return a+b   #here we have the logic to add and return value when called\n",
    "To have the function executed we need to call it and is called function call.\n",
    "ex: functionName(arguments)"
   ]
  },
  {
   "cell_type": "code",
   "execution_count": null,
   "id": "f049f0a4-cf5c-48c7-828f-67cca923da6a",
   "metadata": {},
   "outputs": [],
   "source": [
    "5. How many global scopes are there in a Python program? How many local scopes?\n",
    "\n",
    "In a python program is is only one global scope. There can be any number of local scopes like a function within a function\n",
    "we can define local scopes."
   ]
  },
  {
   "cell_type": "code",
   "execution_count": null,
   "id": "779bdc11-3482-4768-85b1-9fe36a55fd02",
   "metadata": {},
   "outputs": [],
   "source": [
    "6. What happens to variables in a local scope when the function call returns?\n",
    "\n",
    "The variables in the local scope are destroyed when the function call returns."
   ]
  },
  {
   "cell_type": "code",
   "execution_count": null,
   "id": "9947005b-387a-4540-95bf-fdfb61cd06a1",
   "metadata": {},
   "outputs": [],
   "source": [
    "7. What is the concept of a return value? Is it possible to have a return value in an expression?\n",
    "\n",
    "Unlike print(), return value maintains the data type it was already having. \n",
    "Yes its possible to have return value in an expression, as shared in question 2, example."
   ]
  },
  {
   "cell_type": "code",
   "execution_count": null,
   "id": "29fd8475-a9c5-4a42-96de-e8675521a33c",
   "metadata": {},
   "outputs": [],
   "source": [
    "8. If a function does not have a return statement, what is the return value of a call to that function?\n",
    "\n",
    "Return value of the called function is undefine."
   ]
  },
  {
   "cell_type": "code",
   "execution_count": null,
   "id": "0c0377b6-c0df-4525-a029-0f1f74708d69",
   "metadata": {},
   "outputs": [],
   "source": [
    "9. How do you make a function variable refer to the global variable?\n",
    "\n",
    "global keyword can we used to make a function variable(local variable) to the global variable."
   ]
  },
  {
   "cell_type": "code",
   "execution_count": null,
   "id": "eb1b5a1c-7792-4392-9ba4-cf9649d2208d",
   "metadata": {},
   "outputs": [],
   "source": [
    "10. What is the data type of None?\n",
    "\n",
    "Data type of None is NoneType"
   ]
  },
  {
   "cell_type": "code",
   "execution_count": 3,
   "id": "a5d8595c-1ed5-4cab-af1a-d46232d7cdf6",
   "metadata": {},
   "outputs": [
    {
     "data": {
      "text/plain": [
       "NoneType"
      ]
     },
     "execution_count": 3,
     "metadata": {},
     "output_type": "execute_result"
    }
   ],
   "source": [
    "type(None)"
   ]
  },
  {
   "cell_type": "code",
   "execution_count": null,
   "id": "80168f31-6ec2-4a51-83ca-f7811f403821",
   "metadata": {},
   "outputs": [],
   "source": [
    "11. What does the sentence import areallyourpetsnamederic do?\n",
    "\n",
    "That import statement imports a module named areallyourpetsnamederic from the python library if its a apart of modules\n",
    "in python library, else would throw an erro."
   ]
  },
  {
   "cell_type": "code",
   "execution_count": null,
   "id": "2d9fa4ce-e47a-4d03-b136-0364f527e538",
   "metadata": {},
   "outputs": [],
   "source": [
    "12. If you had a bacon() feature in a spam module, what would you call it after importing spam?\n",
    "\n",
    "spam.bacon()"
   ]
  },
  {
   "cell_type": "code",
   "execution_count": null,
   "id": "2a4c746a-9660-4e99-a7fa-98c6bdba0c24",
   "metadata": {},
   "outputs": [],
   "source": [
    "13. What can you do to save a programme from crashing if it encounters an error?\n",
    "\n",
    "Recommended to place the piece of code that might cause error in try clause "
   ]
  },
  {
   "cell_type": "code",
   "execution_count": null,
   "id": "cfafa193-314f-430b-ada3-a9c541bad3a2",
   "metadata": {},
   "outputs": [],
   "source": [
    "14. What is the purpose of the try clause? What is the purpose of the except clause?\n",
    "\n",
    "Try clause lets us test a peice of code for errors, except clause lets us handle the error."
   ]
  }
 ],
 "metadata": {
  "kernelspec": {
   "display_name": "Python 3 (ipykernel)",
   "language": "python",
   "name": "python3"
  },
  "language_info": {
   "codemirror_mode": {
    "name": "ipython",
    "version": 3
   },
   "file_extension": ".py",
   "mimetype": "text/x-python",
   "name": "python",
   "nbconvert_exporter": "python",
   "pygments_lexer": "ipython3",
   "version": "3.10.6"
  }
 },
 "nbformat": 4,
 "nbformat_minor": 5
}
