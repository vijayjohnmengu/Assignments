{
 "cells": [
  {
   "cell_type": "markdown",
   "id": "5596b3de-45c2-4528-a900-0c7c20fef94f",
   "metadata": {},
   "source": [
    "1. What exactly is []?"
   ]
  },
  {
   "cell_type": "markdown",
   "id": "8695e1df-c8c4-4edd-aab3-6538f9bbc2e2",
   "metadata": {},
   "source": [
    "sol: [] is an empty list."
   ]
  },
  {
   "cell_type": "markdown",
   "id": "0627b4a0-4c10-4a17-b6a3-9adaea6d822b",
   "metadata": {},
   "source": [
    "2. In a list of values stored in a variable called spam, how would you assign the value &#39;hello&#39; as the\n",
    "third value? (Assume [2, 4, 6, 8, 10] are in spam.)"
   ]
  },
  {
   "cell_type": "code",
   "execution_count": 4,
   "id": "a03624e6-097d-4f66-8168-dc68ffb88764",
   "metadata": {},
   "outputs": [
    {
     "name": "stdout",
     "output_type": "stream",
     "text": [
      "[2, 4, 'hello', 6, 8, 10]\n"
     ]
    }
   ],
   "source": [
    "spam=[2,4,6,8,10]\n",
    "spam.insert(2,'hello')\n",
    "print(spam)"
   ]
  },
  {
   "cell_type": "markdown",
   "id": "93503006-364a-48c2-aed3-1aa3fadbb01a",
   "metadata": {},
   "source": [
    "3. What is the value of spam[int(int('3' * 2) / 11)]?"
   ]
  },
  {
   "cell_type": "code",
   "execution_count": 5,
   "id": "f97d69cb-67a5-433b-9d8d-783721747151",
   "metadata": {},
   "outputs": [
    {
     "data": {
      "text/plain": [
       "'d'"
      ]
     },
     "execution_count": 5,
     "metadata": {},
     "output_type": "execute_result"
    }
   ],
   "source": [
    "spam=['a','b','c','d']\n",
    "spam[int(int('3'*2)/11)]"
   ]
  },
  {
   "cell_type": "markdown",
   "id": "0a019d0f-6bb1-4b52-ba8b-680a9742c904",
   "metadata": {},
   "source": [
    "4. What is the value of spam[-1]?"
   ]
  },
  {
   "cell_type": "code",
   "execution_count": 6,
   "id": "e8d1facc-9e04-4e53-8240-d5a37c531c3f",
   "metadata": {},
   "outputs": [
    {
     "data": {
      "text/plain": [
       "'d'"
      ]
     },
     "execution_count": 6,
     "metadata": {},
     "output_type": "execute_result"
    }
   ],
   "source": [
    "spam[-1]"
   ]
  },
  {
   "cell_type": "markdown",
   "id": "5aa9a624-d9a3-474d-a56e-ab11bd9342db",
   "metadata": {},
   "source": [
    "5. What is the value of spam[:2]?"
   ]
  },
  {
   "cell_type": "code",
   "execution_count": 7,
   "id": "8db6a8b3-2f8a-4b29-86fa-0e9df8724816",
   "metadata": {},
   "outputs": [
    {
     "data": {
      "text/plain": [
       "['a', 'b']"
      ]
     },
     "execution_count": 7,
     "metadata": {},
     "output_type": "execute_result"
    }
   ],
   "source": [
    "spam[:-2]"
   ]
  },
  {
   "cell_type": "markdown",
   "id": "f01cdd3c-a7dd-4cb1-869e-8102767e57a4",
   "metadata": {},
   "source": [
    "6. What is the value of bacon.index('cat')?"
   ]
  },
  {
   "cell_type": "code",
   "execution_count": 12,
   "id": "55646f9c-e678-4f0d-9ba7-839c25a1539c",
   "metadata": {},
   "outputs": [
    {
     "data": {
      "text/plain": [
       "1"
      ]
     },
     "execution_count": 12,
     "metadata": {},
     "output_type": "execute_result"
    }
   ],
   "source": [
    "bacon=[3.14,'cat',11,'cat',True]\n",
    "bacon.index('cat')"
   ]
  },
  {
   "cell_type": "markdown",
   "id": "9223aa60-94a3-4389-9b8a-b30ed56382ab",
   "metadata": {},
   "source": [
    "7. How does bacon.append(99) change the look of the list value in bacon?"
   ]
  },
  {
   "cell_type": "code",
   "execution_count": 13,
   "id": "3cfa2ef9-2a58-4905-bd1d-d59d65165edc",
   "metadata": {},
   "outputs": [
    {
     "data": {
      "text/plain": [
       "[3.14, 'cat', 11, 'cat', True, 99]"
      ]
     },
     "execution_count": 13,
     "metadata": {},
     "output_type": "execute_result"
    }
   ],
   "source": [
    "bacon.append(99)\n",
    "bacon"
   ]
  },
  {
   "cell_type": "markdown",
   "id": "1837e04a-0b5c-416c-b80a-6a3864b250d6",
   "metadata": {},
   "source": [
    "8. How does bacon.remove('cat') change the look of the list in bacon?"
   ]
  },
  {
   "cell_type": "code",
   "execution_count": 14,
   "id": "01c9ebe7-744e-4c29-a007-151b1e582ada",
   "metadata": {},
   "outputs": [
    {
     "data": {
      "text/plain": [
       "[3.14, 11, 'cat', True, 99]"
      ]
     },
     "execution_count": 14,
     "metadata": {},
     "output_type": "execute_result"
    }
   ],
   "source": [
    "bacon.remove('cat')\n",
    "bacon"
   ]
  },
  {
   "cell_type": "markdown",
   "id": "14006488-5f7c-4795-993f-36e87e7b6df8",
   "metadata": {},
   "source": [
    "9. What are the list concatenation and list replication operators?"
   ]
  },
  {
   "cell_type": "code",
   "execution_count": null,
   "id": "4ec63e1a-fba9-474a-9072-69aad4608570",
   "metadata": {},
   "outputs": [],
   "source": [
    "'+' is a list concatenation operator and '*' is a list replication operator."
   ]
  },
  {
   "cell_type": "code",
   "execution_count": 16,
   "id": "18382400-2a24-4d95-b165-d60de68a3909",
   "metadata": {},
   "outputs": [
    {
     "data": {
      "text/plain": [
       "[1, 2, 5, 4, 'j', 'm', 32, 56, 'r']"
      ]
     },
     "execution_count": 16,
     "metadata": {},
     "output_type": "execute_result"
    }
   ],
   "source": [
    "##example for concatenation\n",
    "k=[1,2,5,4,'j','m']\n",
    "h=[32,56,'r']\n",
    "t=k+h\n",
    "t"
   ]
  },
  {
   "cell_type": "code",
   "execution_count": 17,
   "id": "94a8ca61-f8d7-47ae-88ec-c044962f0650",
   "metadata": {},
   "outputs": [
    {
     "data": {
      "text/plain": [
       "[1, 2, 5, 4, 'j', 'm', 1, 2, 5, 4, 'j', 'm']"
      ]
     },
     "execution_count": 17,
     "metadata": {},
     "output_type": "execute_result"
    }
   ],
   "source": [
    "##example for replication\n",
    "y=k*2\n",
    "y"
   ]
  },
  {
   "cell_type": "markdown",
   "id": "d8e9aed2-afc2-49ba-a77b-5b1cb62eff83",
   "metadata": {},
   "source": [
    "10. What is difference between the list methods append() and insert()?"
   ]
  },
  {
   "cell_type": "code",
   "execution_count": null,
   "id": "7bb33b8b-3e83-43e9-95ed-be63dbe54908",
   "metadata": {},
   "outputs": [],
   "source": [
    "append() places the value at the last index of the list, were as insert() \n",
    "will allow us an option to select the index in which we would like to place the required value in the list."
   ]
  },
  {
   "cell_type": "markdown",
   "id": "40b9971e-ed6e-4dba-a66c-984d1745a8ad",
   "metadata": {},
   "source": [
    "11. What are the two methods for removing items from a list?"
   ]
  },
  {
   "cell_type": "code",
   "execution_count": null,
   "id": "65214a1f-d42f-4dd3-9331-28d00ca49de5",
   "metadata": {},
   "outputs": [],
   "source": [
    "pop() and remove() are the two methods for removing items from a list."
   ]
  },
  {
   "cell_type": "markdown",
   "id": "82a16b55-8f53-4dba-a177-1bb4d2b5bd8b",
   "metadata": {},
   "source": [
    "12. Describe how list values and string values are identical."
   ]
  },
  {
   "cell_type": "code",
   "execution_count": null,
   "id": "5d3dbad9-35f6-42d1-9261-ed8508618ee1",
   "metadata": {},
   "outputs": [],
   "source": [
    "list values and string values can both be iterated using their index."
   ]
  },
  {
   "cell_type": "markdown",
   "id": "ce1b6fe2-4fcf-44d3-b07a-029f77e1a219",
   "metadata": {},
   "source": [
    "13. What's the difference between tuples and lists?"
   ]
  },
  {
   "cell_type": "code",
   "execution_count": null,
   "id": "1f19c4eb-67f8-4555-ae87-5d8f8839b957",
   "metadata": {},
   "outputs": [],
   "source": [
    "tuples are immutable and lists are mutable."
   ]
  },
  {
   "cell_type": "markdown",
   "id": "e03f0122-adbe-4a0d-8659-b790cdf7031c",
   "metadata": {},
   "source": [
    "14. How do you type a tuple value that only contains the integer 42?"
   ]
  },
  {
   "cell_type": "code",
   "execution_count": 19,
   "id": "083b98ad-852b-4257-8317-8dbca3c59c6d",
   "metadata": {},
   "outputs": [
    {
     "name": "stdout",
     "output_type": "stream",
     "text": [
      "(42,) <class 'tuple'>\n"
     ]
    }
   ],
   "source": [
    "##we can use a traling coma example below.\n",
    "\n",
    "t=(42,)\n",
    "print(t,type(t))"
   ]
  },
  {
   "cell_type": "markdown",
   "id": "c12b6928-67d7-4e1b-8aa0-f43a26d9ffe6",
   "metadata": {},
   "source": [
    "15. How do you get a list value&#39;s tuple form? How do you get a tuple value&#39;s list form?"
   ]
  },
  {
   "cell_type": "code",
   "execution_count": 20,
   "id": "9b6cf93f-6460-4f64-87fe-2986a192ee7e",
   "metadata": {},
   "outputs": [
    {
     "name": "stdout",
     "output_type": "stream",
     "text": [
      "(5, 6, 7, 8, 'king') <class 'tuple'>\n"
     ]
    }
   ],
   "source": [
    "## we can type cast example below\n",
    "\n",
    "##list value's tuple form\n",
    "\n",
    "l=[5,6,7,8,'king']\n",
    "l=tuple(l)\n",
    "print(l,type(l))"
   ]
  },
  {
   "cell_type": "code",
   "execution_count": 21,
   "id": "35f66011-47d9-49df-ba1a-c67080d680e9",
   "metadata": {},
   "outputs": [
    {
     "name": "stdout",
     "output_type": "stream",
     "text": [
      "[3, 2, 43, 'tail'] <class 'list'>\n"
     ]
    }
   ],
   "source": [
    "##tuple vaule's list form\n",
    "\n",
    "t=(3,2,43,'tail')\n",
    "t=list(t)\n",
    "print(t,type(t))"
   ]
  },
  {
   "cell_type": "markdown",
   "id": "6298ce34-600d-47c7-b268-ddd663e9cfbb",
   "metadata": {},
   "source": [
    "16. Variables that &quot;contain&quot; list values are not necessarily lists themselves. Instead, what do they\n",
    "contain?"
   ]
  },
  {
   "cell_type": "code",
   "execution_count": null,
   "id": "6131b968-1016-4977-b8f6-aac872b1641a",
   "metadata": {},
   "outputs": [],
   "source": [
    "The Variables contains a reference to the list"
   ]
  },
  {
   "cell_type": "markdown",
   "id": "87429d5b-5103-4bca-9956-7033e90c49ee",
   "metadata": {},
   "source": [
    "17. How do you distinguish between copy.copy() and copy.deepcopy()?"
   ]
  },
  {
   "cell_type": "code",
   "execution_count": null,
   "id": "1bb44b02-b5b7-435a-af0f-e7eb90cdfe22",
   "metadata": {},
   "outputs": [],
   "source": [
    "copy.copy() and copy.deepcopy() will vary incase of nested list. deepcopy will give the right results in case of\n",
    "nested list ex: [[1,2,'hi'],[, however shallow copy gives right results only in case of simple list ex:[1,2,'jack']."
   ]
  }
 ],
 "metadata": {
  "kernelspec": {
   "display_name": "Python 3 (ipykernel)",
   "language": "python",
   "name": "python3"
  },
  "language_info": {
   "codemirror_mode": {
    "name": "ipython",
    "version": 3
   },
   "file_extension": ".py",
   "mimetype": "text/x-python",
   "name": "python",
   "nbconvert_exporter": "python",
   "pygments_lexer": "ipython3",
   "version": "3.10.6"
  }
 },
 "nbformat": 4,
 "nbformat_minor": 5
}
