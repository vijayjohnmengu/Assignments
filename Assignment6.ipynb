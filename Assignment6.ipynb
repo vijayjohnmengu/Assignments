{
  "metadata": {
    "kernelspec": {
      "name": "python",
      "display_name": "Python (Pyodide)",
      "language": "python"
    },
    "language_info": {
      "codemirror_mode": {
        "name": "python",
        "version": 3
      },
      "file_extension": ".py",
      "mimetype": "text/x-python",
      "name": "python",
      "nbconvert_exporter": "python",
      "pygments_lexer": "ipython3",
      "version": "3.8"
    }
  },
  "nbformat_minor": 5,
  "nbformat": 4,
  "cells": [
    {
      "cell_type": "markdown",
      "source": "1. What are keywords in python? Using the keyword library, print all the python keywords.",
      "metadata": {},
      "id": "7535a13a-1698-4307-b9ec-0cd8faeb20a8"
    },
    {
      "cell_type": "code",
      "source": "#Keywords are reserved and predefined words with a special meaning and can not be used as variables in the code.\nimport keyword\nprint(keyword.kwlist)",
      "metadata": {
        "trusted": true
      },
      "execution_count": 6,
      "outputs": [
        {
          "name": "stdout",
          "text": "['False', 'None', 'True', 'and', 'as', 'assert', 'async', 'await', 'break', 'class', 'continue', 'def', 'del', 'elif', 'else', 'except', 'finally', 'for', 'from', 'global', 'if', 'import', 'in', 'is', 'lambda', 'nonlocal', 'not', 'or', 'pass', 'raise', 'return', 'try', 'while', 'with', 'yield']\n",
          "output_type": "stream"
        }
      ],
      "id": "4ebb5b40-837c-43c1-ba8a-a94655e149c1"
    },
    {
      "cell_type": "markdown",
      "source": "2. What are the rules to create variables in python? ",
      "metadata": {},
      "id": "798bf548-0300-4d9b-8898-43a4786a9215"
    },
    {
      "cell_type": "code",
      "source": "Variables should:\n    1. not start with number\n    2. not be a keyword\n    3. should start with a letter or underscore\n    4. not contain apha-numeric or underscores",
      "metadata": {},
      "execution_count": null,
      "outputs": [],
      "id": "79799c65-6fd0-4b50-b6db-5f2b2b2ce0e7"
    },
    {
      "cell_type": "markdown",
      "source": "3. What are the standards and conventions followed for the nomenclature of variables in python to improve code readability and maintainability? ",
      "metadata": {},
      "id": "27f2fa83-47d7-4296-a4da-5742ff38dcba"
    },
    {
      "cell_type": "code",
      "source": "private variable will have two underscores preceeding the variable were as protected variable will be having single underscore.\nPublic variable would not have any underscores.",
      "metadata": {},
      "execution_count": null,
      "outputs": [],
      "id": "9c8cea93-95ad-40a6-a088-b57582d57fe3"
    },
    {
      "cell_type": "markdown",
      "source": "4. What will happen if a keyword is used as a variable name? ",
      "metadata": {},
      "id": "3011615e-0d2e-4932-96a3-d40f220a467c"
    },
    {
      "cell_type": "code",
      "source": "False=20",
      "metadata": {
        "trusted": true
      },
      "execution_count": 8,
      "outputs": [
        {
          "ename": "<class 'SyntaxError'>",
          "evalue": "cannot assign to False (<ipython-input-8-e7636a098d4b>, line 1)",
          "traceback": [
            "\u001b[0;36m  Cell \u001b[0;32mIn[8], line 1\u001b[0;36m\u001b[0m\n\u001b[0;31m    False=20\u001b[0m\n\u001b[0m    ^\u001b[0m\n\u001b[0;31mSyntaxError\u001b[0m\u001b[0;31m:\u001b[0m cannot assign to False\n"
          ],
          "output_type": "error"
        }
      ],
      "id": "ef93bcf9-c370-4006-836d-d8748534a65f"
    },
    {
      "cell_type": "markdown",
      "source": "5. For what purpose def keyword is used? ",
      "metadata": {},
      "id": "34ebdf71-e2aa-4722-baa3-e85173b8bae5"
    },
    {
      "cell_type": "code",
      "source": "def keyword is used to define a function.",
      "metadata": {},
      "execution_count": null,
      "outputs": [],
      "id": "c2635679-af6c-4189-bec7-ce7593007097"
    },
    {
      "cell_type": "markdown",
      "source": "6. What is the operation of this special character ‘\\’? ",
      "metadata": {},
      "id": "6a49b452-2b06-41e5-b51e-15147a8ecd90"
    },
    {
      "cell_type": "code",
      "source": "\"\\\" is a blackslash ,\"\\t\" is a tab, \"\\n\" is a newline, and \"\\r\" is a carriage return.",
      "metadata": {},
      "execution_count": null,
      "outputs": [],
      "id": "b11a7ac2-b6ee-4692-9d61-6cd7b4caf039"
    },
    {
      "cell_type": "markdown",
      "source": "7. Give an example of the following conditions: \n(i) Homogeneous list \n(ii) Heterogeneous set \n(iii) Homogeneous tuple ",
      "metadata": {},
      "id": "7005cfc0-51a9-441f-b9b5-307da289e93d"
    },
    {
      "cell_type": "code",
      "source": "i) l=['a','b','t','s'] - Homogeneous list\nii) k={'t',1,3,'king'} - Heterogeneous set\niii)t=(1,4,3,5,6,7)    - Homogeneous tuple",
      "metadata": {},
      "execution_count": null,
      "outputs": [],
      "id": "16f14c54-d06c-493a-b5e9-eef88adb7710"
    },
    {
      "cell_type": "markdown",
      "source": "8. Explain the mutable and immutable data types with proper explanation & examples. ",
      "metadata": {},
      "id": "1d969097-733e-40af-a600-c94dbd02a771"
    },
    {
      "cell_type": "code",
      "source": "#Mutable: if we can replace a value using index its mutalbe example lists.\n\nl=[1,2,3,4,5,6]\nl[1]='kid'\nprint(l)",
      "metadata": {
        "trusted": true
      },
      "execution_count": 9,
      "outputs": [
        {
          "name": "stdout",
          "text": "[1, 'kid', 3, 4, 5, 6]\n",
          "output_type": "stream"
        }
      ],
      "id": "0a443f71-7119-409d-8547-c8c14d74d924"
    },
    {
      "cell_type": "code",
      "source": "#Immutable: If we can not replace a value using index its immutable example tuple.\n\nk=(1,3,'hello',6,99)\nk[2]=89\nprint(k)",
      "metadata": {
        "trusted": true
      },
      "execution_count": 10,
      "outputs": [
        {
          "ename": "<class 'TypeError'>",
          "evalue": "'tuple' object does not support item assignment",
          "traceback": [
            "\u001b[0;31m---------------------------------------------------------------------------\u001b[0m",
            "\u001b[0;31mTypeError\u001b[0m                                 Traceback (most recent call last)",
            "Cell \u001b[0;32mIn[10], line 4\u001b[0m\n\u001b[1;32m      1\u001b[0m \u001b[38;5;66;03m#Immutable: If we can not replace a value using index its immutable example tuple.\u001b[39;00m\n\u001b[1;32m      3\u001b[0m k\u001b[38;5;241m=\u001b[39m(\u001b[38;5;241m1\u001b[39m,\u001b[38;5;241m3\u001b[39m,\u001b[38;5;124m'\u001b[39m\u001b[38;5;124mhello\u001b[39m\u001b[38;5;124m'\u001b[39m,\u001b[38;5;241m6\u001b[39m,\u001b[38;5;241m99\u001b[39m)\n\u001b[0;32m----> 4\u001b[0m \u001b[43mk\u001b[49m\u001b[43m[\u001b[49m\u001b[38;5;241;43m2\u001b[39;49m\u001b[43m]\u001b[49m\u001b[38;5;241m=\u001b[39m\u001b[38;5;241m89\u001b[39m\n\u001b[1;32m      5\u001b[0m \u001b[38;5;28mprint\u001b[39m(k)\n",
            "\u001b[0;31mTypeError\u001b[0m: 'tuple' object does not support item assignment"
          ],
          "output_type": "error"
        }
      ],
      "id": "6f8e1e79-7737-4ee8-805c-218c57c6c2b9"
    },
    {
      "cell_type": "markdown",
      "source": "9. Write a code to create the given structure using only for loop. \n    * \n   *** \n  ***** \n ******* \n********* ",
      "metadata": {},
      "id": "c07adb60-c373-4fd5-bba0-b15900941247"
    },
    {
      "cell_type": "code",
      "source": "n=5\nfor i in range(n):\n    for j in range(n-i):\n        print(' ',end='')\n    for j in range(i+1):\n        print('*',end='')\n    for j in range(i):\n        print('*',end='')\n    print()",
      "metadata": {
        "trusted": true
      },
      "execution_count": 14,
      "outputs": [
        {
          "name": "stdout",
          "text": "     *\n    ***\n   *****\n  *******\n *********\n",
          "output_type": "stream"
        }
      ],
      "id": "2285ff5a-93fe-48f5-9d08-743d4613b2af"
    },
    {
      "cell_type": "code",
      "source": "10. Write a code to create the given structure using while loop. \n||||||||| \n ||||||| \n  ||||| \n   ||| \n    |",
      "metadata": {},
      "execution_count": null,
      "outputs": [],
      "id": "f572c3ef-adce-4476-8db5-647dcb1962b1"
    },
    {
      "cell_type": "code",
      "source": "n=5\nfor i in range(n):\n    for j in range(i):\n        print(' ',end='')\n    for j in range(n-i):\n        print('|',end='')\n    for j in range(n-i-1):\n        print('|',end='')\n    \n    print()",
      "metadata": {
        "trusted": true
      },
      "execution_count": 18,
      "outputs": [
        {
          "name": "stdout",
          "text": "|||||||||\n |||||||\n  |||||\n   |||\n    |\n",
          "output_type": "stream"
        }
      ],
      "id": "579e4b58-1e94-4901-9efc-ea78992a8fc1"
    },
    {
      "cell_type": "code",
      "source": "",
      "metadata": {},
      "execution_count": null,
      "outputs": [],
      "id": "9ec70e75-ece6-4b87-895e-33ede785b303"
    }
  ]
}