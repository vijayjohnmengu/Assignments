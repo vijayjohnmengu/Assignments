{
 "cells": [
  {
   "cell_type": "markdown",
   "id": "517a6ca2-c24a-4fae-a64f-d03ef37d3a73",
   "metadata": {},
   "source": [
    "Q.1. Create two int type variables, apply addition, subtraction, division and multiplications\n",
    "and store the results in variables. Then print the data in the following format by calling the\n",
    "variables:\n",
    "First variable is __ & second variable is __.\n",
    "Addition: __ + __ = __\n",
    "Subtraction: __ - __ = __\n",
    "Multiplication: __ * __ = __\n",
    "Division: __ / __ = __"
   ]
  },
  {
   "cell_type": "code",
   "execution_count": 6,
   "id": "78f03a77-3957-42b8-abaa-c02328f74c5d",
   "metadata": {},
   "outputs": [
    {
     "name": "stdout",
     "output_type": "stream",
     "text": [
      "First variable is 10 & second variable is 20\n",
      "Addition: 10+20 = 30\n",
      "Subtraction: 10-20 = -10\n",
      "Multiplication: 10*20 = 200\n",
      "Division: 10/20 = 0.5\n"
     ]
    }
   ],
   "source": [
    "a=10\n",
    "b=20\n",
    "print(f'First variable is {a} & second variable is {b}')\n",
    "c=a+b\n",
    "print(f'Addition: {a}+{b} = {c}')\n",
    "d=a-b\n",
    "print(f'Subtraction: {a}-{b} = {d}')\n",
    "e=a*b\n",
    "print(f'Multiplication: {a}*{b} = {e}')\n",
    "f=a/b\n",
    "print(f'Division: {a}/{b} = {f}')"
   ]
  },
  {
   "cell_type": "markdown",
   "id": "32e065ef-a6f9-4244-9b2d-ae7dc1923a29",
   "metadata": {},
   "source": [
    "Q.2. What is the difference between the following operators:\n",
    "(i) ‘/’ & ‘//’\n",
    "(ii) ‘**’ & ‘^’"
   ]
  },
  {
   "cell_type": "code",
   "execution_count": null,
   "id": "395ebf7b-61c7-4777-97e1-cec7efd83506",
   "metadata": {},
   "outputs": [],
   "source": [
    "i) '/' - Is a regular division operator and returns float.\n",
    "    '//' - Is a floor division and returns int.\n",
    "ii) '**' - Is an exponential operator.\n",
    "    '^' - Is a binary xor"
   ]
  },
  {
   "cell_type": "markdown",
   "id": "7699dfd2-f46c-41ff-aa54-8d5dc70438d5",
   "metadata": {},
   "source": [
    "Q.3. List the logical operators."
   ]
  },
  {
   "cell_type": "code",
   "execution_count": null,
   "id": "3eeaa8d4-d8c9-4d6c-9cab-85070d22c586",
   "metadata": {},
   "outputs": [],
   "source": [
    "and, or , not are logical operators"
   ]
  },
  {
   "cell_type": "markdown",
   "id": "57bfebab-41ec-4ba9-8cbc-bb3f9f7002df",
   "metadata": {},
   "source": [
    "Q.4. Explain right shift operator and left shift operator with examples."
   ]
  },
  {
   "cell_type": "code",
   "execution_count": 7,
   "id": "3c01bac1-7d3a-485e-af5e-35941dcf4740",
   "metadata": {},
   "outputs": [
    {
     "name": "stdout",
     "output_type": "stream",
     "text": [
      "left shift: 10485760\n",
      "right shift: 0\n"
     ]
    }
   ],
   "source": [
    "'''Left shift operator: The number of bits in the right operand is multiplied by the leftward shift of the value of the \n",
    "left operand.\n",
    "\n",
    "Right shift operator: The left operand is moved right by the number of bits present in the right operand.'''\n",
    "\n",
    "a=10\n",
    "b=20\n",
    "\n",
    "print('left shift:',a<<b)\n",
    "print('right shift:',a>>b)"
   ]
  },
  {
   "cell_type": "markdown",
   "id": "67f1079f-864b-4356-b391-ef12655c9a60",
   "metadata": {},
   "source": [
    "Q.5. Create a list containing int type data of length 15. Then write a code to check if 10 is\n",
    "present in the list or not."
   ]
  },
  {
   "cell_type": "code",
   "execution_count": null,
   "id": "1fd76738-ab7b-4584-887e-810c6bdcf729",
   "metadata": {},
   "outputs": [],
   "source": []
  }
 ],
 "metadata": {
  "kernelspec": {
   "display_name": "Python 3 (ipykernel)",
   "language": "python",
   "name": "python3"
  },
  "language_info": {
   "codemirror_mode": {
    "name": "ipython",
    "version": 3
   },
   "file_extension": ".py",
   "mimetype": "text/x-python",
   "name": "python",
   "nbconvert_exporter": "python",
   "pygments_lexer": "ipython3",
   "version": "3.10.6"
  }
 },
 "nbformat": 4,
 "nbformat_minor": 5
}
