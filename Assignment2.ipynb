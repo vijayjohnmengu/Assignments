{
 "cells": [
  {
   "cell_type": "code",
   "execution_count": null,
   "id": "274f8912-1847-4cb1-a8c0-197f2d43000d",
   "metadata": {},
   "outputs": [],
   "source": [
    "1.What are the two values of the Boolean data type? How do you write them?\n",
    "\n",
    "Sol:\n",
    "\n",
    "True & False\n",
    "\n",
    "a=True\n",
    "b=False"
   ]
  },
  {
   "cell_type": "code",
   "execution_count": null,
   "id": "623aa6e7-f97e-4f37-ae38-cfb7af48dad9",
   "metadata": {},
   "outputs": [],
   "source": [
    "2. What are the three different types of Boolean operators?\n",
    "\n",
    "Sol:\n",
    "\n",
    "and, or, and not "
   ]
  },
  {
   "cell_type": "code",
   "execution_count": null,
   "id": "6a52b460-2a05-4d12-ac48-361853f23bb1",
   "metadata": {},
   "outputs": [],
   "source": [
    "3. Make a list of each Boolean operator's truth tables (i.e. every possible combination of Boolean\n",
    "values for the operator and what it evaluate ).\n",
    "\n",
    "Sol:\n",
    "\n",
    "True and True  = True\n",
    "True and False = False\n",
    "False and True = False\n",
    "False and False= False\n",
    "True  or True  = True\n",
    "True  or False = True\n",
    "False or True  = True\n",
    "False or False = False\n",
    "not False      = True\n",
    "not True       = False"
   ]
  },
  {
   "cell_type": "code",
   "execution_count": null,
   "id": "f09d9d57-670d-413d-8723-6390f4c1a94c",
   "metadata": {},
   "outputs": [],
   "source": [
    "4.What are the values of the following expressions?\n",
    "\n",
    "                                        Sol\n",
    "(5 > 4) and (3 == 5)                --> False\n",
    "not (5 > 4)                         --> False\n",
    "(5 > 4) or (3 == 5)                 --> True\n",
    "not ((5 > 4) or (3 == 5))           --> False\n",
    "(True and True) and (True == False) --> False\n",
    "(not False) or (not True)           --> True"
   ]
  },
  {
   "cell_type": "code",
   "execution_count": null,
   "id": "70f58df2-d656-4049-995c-01560c385579",
   "metadata": {},
   "outputs": [],
   "source": [
    "5. What are the six comparison operators?\n",
    "\n",
    "Sol:\n",
    "\n",
    "> , < , == , != , >= , <="
   ]
  },
  {
   "cell_type": "code",
   "execution_count": null,
   "id": "b67aa535-015c-425c-8362-20a941ddf45f",
   "metadata": {},
   "outputs": [],
   "source": [
    "6. How do you tell the difference between the equal to and assignment operators?Describe a\n",
    "condition and when you would use one.\n",
    "\n",
    "Sol:\n",
    "equal to is == and its a comparision operator\n",
    "assignment is = and its an assignment operator used to assign a value to a variable\n"
   ]
  },
  {
   "cell_type": "code",
   "execution_count": 15,
   "id": "43786f49-64e9-49f6-b091-280d81beb987",
   "metadata": {},
   "outputs": [
    {
     "name": "stdout",
     "output_type": "stream",
     "text": [
      "5\n"
     ]
    },
    {
     "data": {
      "text/plain": [
       "True"
      ]
     },
     "execution_count": 15,
     "metadata": {},
     "output_type": "execute_result"
    }
   ],
   "source": [
    "#Example for assignment operator\n",
    "a = 5\n",
    "print(a)\n",
    "#Example for equal to operator\n",
    "6==6"
   ]
  },
  {
   "cell_type": "code",
   "execution_count": null,
   "id": "4944324d-cda7-4787-9a15-ea0823deef96",
   "metadata": {},
   "outputs": [],
   "source": [
    "7. Identify the three blocks in this code:\n"
   ]
  },
  {
   "cell_type": "code",
   "execution_count": 16,
   "id": "1c3051eb-269a-40e7-ac8c-16219276dcc7",
   "metadata": {},
   "outputs": [
    {
     "name": "stdout",
     "output_type": "stream",
     "text": [
      "ham\n",
      "spam\n",
      "spam\n"
     ]
    }
   ],
   "source": [
    "spam = 0\n",
    "if spam == 10:\n",
    "    print('eggs')\n",
    "if spam > 5:\n",
    "    print('bacon')\n",
    "\n",
    "else:\n",
    "    print('ham')\n",
    "    print('spam')\n",
    "    print('spam')\n",
    "    "
   ]
  },
  {
   "cell_type": "code",
   "execution_count": null,
   "id": "85f00f70-fb38-43d9-b13a-f8a18c5c069f",
   "metadata": {},
   "outputs": [],
   "source": [
    "8. Write code that prints Hello if 1 is stored in spam, prints Howdy if 2 is stored in spam, and prints\n",
    "Greetings! if anything else is stored in spam."
   ]
  },
  {
   "cell_type": "code",
   "execution_count": 21,
   "id": "192cdd64-4bb3-435d-9db3-96dbbc0f9e85",
   "metadata": {},
   "outputs": [
    {
     "name": "stdin",
     "output_type": "stream",
     "text": [
      "enter any number:  1\n"
     ]
    },
    {
     "name": "stdout",
     "output_type": "stream",
     "text": [
      "Hello\n"
     ]
    }
   ],
   "source": [
    "spam = int(input('enter any number: '))\n",
    "if spam == 1:\n",
    "    print('Hello')\n",
    "elif spam == 2:\n",
    "    print('Howdy')\n",
    "else:\n",
    "    print('Greetings')"
   ]
  },
  {
   "cell_type": "code",
   "execution_count": null,
   "id": "816affb2-8f69-46de-b838-e1b73ae646a2",
   "metadata": {},
   "outputs": [],
   "source": [
    "9.If your programme is stuck in an endless loop, what keys you’ll press?\n",
    "\n",
    "Sol: CTRL+C\n",
    "    "
   ]
  },
  {
   "cell_type": "code",
   "execution_count": null,
   "id": "d086bf07-6cd3-4ade-8e0f-9fd280d2ff16",
   "metadata": {},
   "outputs": [],
   "source": [
    "10. How can you tell the difference between break and continue?\n",
    "\n",
    "Sol:\n",
    "The break statement will move the execution outside and just after a loop. \n",
    "The continue statement will move the execution to the start of the loop."
   ]
  },
  {
   "cell_type": "code",
   "execution_count": null,
   "id": "31be07c2-bd67-4db8-a945-69ea03d1afd7",
   "metadata": {},
   "outputs": [],
   "source": [
    "11. In a for loop, what is the difference between range(10), range(0, 10), and range(0, 10, 1)?"
   ]
  },
  {
   "cell_type": "code",
   "execution_count": 26,
   "id": "3979cf66-de3a-4230-9815-cd04a80d1e24",
   "metadata": {},
   "outputs": [
    {
     "name": "stdout",
     "output_type": "stream",
     "text": [
      "0\n",
      "1\n",
      "2\n",
      "3\n",
      "4\n",
      "5\n",
      "6\n",
      "7\n",
      "8\n",
      "9\n"
     ]
    }
   ],
   "source": [
    "for i in range(0,10,1):\n",
    "    print(i)"
   ]
  },
  {
   "cell_type": "code",
   "execution_count": null,
   "id": "83909cef-d923-45f5-be2b-7c4e4b30c941",
   "metadata": {},
   "outputs": [],
   "source": [
    "Sol: All the 3 will give the same result.\n",
    "\n",
    "range(10)     will give output from 0 to 9\n",
    "range(0,10)   will start from 0 and end at 9\n",
    "range(0,10,1) here we also mentioned an increment of 1 ."
   ]
  },
  {
   "cell_type": "code",
   "execution_count": null,
   "id": "02ff14a6-113b-4d9d-954c-a815b2f06509",
   "metadata": {},
   "outputs": [],
   "source": [
    "12. Write a short program that prints the numbers 1 to 10 using a for loop. Then write an equivalent\n",
    "program that prints the numbers 1 to 10 using a while loop."
   ]
  },
  {
   "cell_type": "code",
   "execution_count": 28,
   "id": "1c78e23a-27ca-4bc1-b8f9-4ba847ec6e24",
   "metadata": {},
   "outputs": [
    {
     "name": "stdout",
     "output_type": "stream",
     "text": [
      "0\n",
      "1\n",
      "2\n",
      "3\n",
      "4\n",
      "5\n",
      "6\n",
      "7\n",
      "8\n",
      "9\n",
      "10\n"
     ]
    }
   ],
   "source": [
    "#  for loop\n",
    "for i in range(11):\n",
    "    print(i)"
   ]
  },
  {
   "cell_type": "code",
   "execution_count": 29,
   "id": "b68318c4-905d-4e56-ad17-f54518c4e7d5",
   "metadata": {},
   "outputs": [
    {
     "name": "stdout",
     "output_type": "stream",
     "text": [
      "0\n",
      "1\n",
      "2\n",
      "3\n",
      "4\n",
      "5\n",
      "6\n",
      "7\n",
      "8\n",
      "9\n",
      "10\n"
     ]
    }
   ],
   "source": [
    "#   while loop\n",
    "i=0\n",
    "while i <=10:\n",
    "    print(i)\n",
    "    i += 1"
   ]
  },
  {
   "cell_type": "code",
   "execution_count": null,
   "id": "b4439dfa-d844-46b7-b0cb-39b6bc6e791a",
   "metadata": {},
   "outputs": [],
   "source": [
    "13. If you had a function named bacon() inside a module named spam, how would you call it after\n",
    "importing spam?\n",
    "\n",
    "Sol:\n",
    "    \n",
    "    spam.bacon()"
   ]
  }
 ],
 "metadata": {
  "kernelspec": {
   "display_name": "Python 3 (ipykernel)",
   "language": "python",
   "name": "python3"
  },
  "language_info": {
   "codemirror_mode": {
    "name": "ipython",
    "version": 3
   },
   "file_extension": ".py",
   "mimetype": "text/x-python",
   "name": "python",
   "nbconvert_exporter": "python",
   "pygments_lexer": "ipython3",
   "version": "3.10.6"
  }
 },
 "nbformat": 4,
 "nbformat_minor": 5
}
